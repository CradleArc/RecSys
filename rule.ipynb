{
 "cells": [
  {
   "cell_type": "code",
   "execution_count": 1,
   "metadata": {},
   "outputs": [],
   "source": [
    "import pandas as pd"
   ]
  },
  {
   "cell_type": "code",
   "execution_count": 7,
   "metadata": {},
   "outputs": [],
   "source": [
    "# train = pd.read_csv('D:\\system_default\\desktop\\仓库\\MonTv-RS-solo28\\MongoTv\\data_v2\\main_vv_seq_train.csv')\n",
    "# train_a = pd.read_csv('D:\\system_default\\desktop\\仓库\\MonTv-RS-solo28\\MongoTv\\data_v2\\main_vv_seq_train_A.csv')\n",
    "\n",
    "vid_info = pd.read_csv('./data_v2/vid_info.csv')\n",
    "candidat = pd.read_csv('data_v2\\candidate_items_A.csv')\n"
   ]
  },
  {
   "cell_type": "code",
   "execution_count": 6,
   "metadata": {},
   "outputs": [
    {
     "data": {
      "text/plain": [
       "(149626, 12)"
      ]
     },
     "execution_count": 6,
     "metadata": {},
     "output_type": "execute_result"
    }
   ],
   "source": [
    "candi.shape"
   ]
  },
  {
   "cell_type": "code",
   "execution_count": 4,
   "metadata": {},
   "outputs": [
    {
     "name": "stdout",
     "output_type": "stream",
     "text": [
      "(5596413, 8)\n"
     ]
    },
    {
     "data": {
      "text/html": [
       "<div>\n",
       "<style scoped>\n",
       "    .dataframe tbody tr th:only-of-type {\n",
       "        vertical-align: middle;\n",
       "    }\n",
       "\n",
       "    .dataframe tbody tr th {\n",
       "        vertical-align: top;\n",
       "    }\n",
       "\n",
       "    .dataframe thead th {\n",
       "        text-align: right;\n",
       "    }\n",
       "</style>\n",
       "<table border=\"1\" class=\"dataframe\">\n",
       "  <thead>\n",
       "    <tr style=\"text-align: right;\">\n",
       "      <th></th>\n",
       "      <th>did</th>\n",
       "      <th>vid</th>\n",
       "      <th>vts</th>\n",
       "      <th>hb</th>\n",
       "      <th>seq_no</th>\n",
       "      <th>cpn</th>\n",
       "      <th>fpn</th>\n",
       "      <th>time_gap</th>\n",
       "    </tr>\n",
       "  </thead>\n",
       "  <tbody>\n",
       "    <tr>\n",
       "      <th>0</th>\n",
       "      <td>5ebf5b53f2fdec1eadba29c3b2155e8e</td>\n",
       "      <td>83cf1332aa7315c755cc8bdd356513af</td>\n",
       "      <td>111.0</td>\n",
       "      <td>84.0</td>\n",
       "      <td>5.0</td>\n",
       "      <td>1</td>\n",
       "      <td>130</td>\n",
       "      <td>87.0</td>\n",
       "    </tr>\n",
       "    <tr>\n",
       "      <th>1</th>\n",
       "      <td>5ebf5b53f2fdec1eadba29c3b2155e8e</td>\n",
       "      <td>18d443cacff1173b21ea4c28c8bdf3b0</td>\n",
       "      <td>114.0</td>\n",
       "      <td>85.0</td>\n",
       "      <td>4.0</td>\n",
       "      <td>1</td>\n",
       "      <td>130</td>\n",
       "      <td>115.0</td>\n",
       "    </tr>\n",
       "    <tr>\n",
       "      <th>2</th>\n",
       "      <td>5ebf5b53f2fdec1eadba29c3b2155e8e</td>\n",
       "      <td>27d332d1ad1a58e205b797be64d30e13</td>\n",
       "      <td>137.0</td>\n",
       "      <td>80.0</td>\n",
       "      <td>3.0</td>\n",
       "      <td>1</td>\n",
       "      <td>130</td>\n",
       "      <td>75.0</td>\n",
       "    </tr>\n",
       "    <tr>\n",
       "      <th>3</th>\n",
       "      <td>5ebf5b53f2fdec1eadba29c3b2155e8e</td>\n",
       "      <td>2ac8e7855bb39cd1dace86c7cd5e72b7</td>\n",
       "      <td>91.0</td>\n",
       "      <td>74.0</td>\n",
       "      <td>2.0</td>\n",
       "      <td>1</td>\n",
       "      <td>130</td>\n",
       "      <td>90.0</td>\n",
       "    </tr>\n",
       "    <tr>\n",
       "      <th>4</th>\n",
       "      <td>5ebf5b53f2fdec1eadba29c3b2155e8e</td>\n",
       "      <td>941e1b0a4e8d5ae20ab328f21e8bfcc0</td>\n",
       "      <td>118.0</td>\n",
       "      <td>86.0</td>\n",
       "      <td>1.0</td>\n",
       "      <td>1</td>\n",
       "      <td>130</td>\n",
       "      <td>NaN</td>\n",
       "    </tr>\n",
       "    <tr>\n",
       "      <th>5</th>\n",
       "      <td>76025b9e4c39cbcf416b0815003eb6bc</td>\n",
       "      <td>98c0124136a942e2a41aee003f4f1298</td>\n",
       "      <td>317.0</td>\n",
       "      <td>392.0</td>\n",
       "      <td>76.0</td>\n",
       "      <td>1</td>\n",
       "      <td>130</td>\n",
       "      <td>7.0</td>\n",
       "    </tr>\n",
       "    <tr>\n",
       "      <th>6</th>\n",
       "      <td>76025b9e4c39cbcf416b0815003eb6bc</td>\n",
       "      <td>db978f94b983a6ed3021e1e927ee09ef</td>\n",
       "      <td>8.0</td>\n",
       "      <td>89.0</td>\n",
       "      <td>75.0</td>\n",
       "      <td>1</td>\n",
       "      <td>68</td>\n",
       "      <td>12236.0</td>\n",
       "    </tr>\n",
       "    <tr>\n",
       "      <th>7</th>\n",
       "      <td>76025b9e4c39cbcf416b0815003eb6bc</td>\n",
       "      <td>4a87208053004ae71e82c4af599de242</td>\n",
       "      <td>444.0</td>\n",
       "      <td>439.0</td>\n",
       "      <td>74.0</td>\n",
       "      <td>1</td>\n",
       "      <td>130</td>\n",
       "      <td>6126.0</td>\n",
       "    </tr>\n",
       "    <tr>\n",
       "      <th>8</th>\n",
       "      <td>76025b9e4c39cbcf416b0815003eb6bc</td>\n",
       "      <td>0cc56b6914c87d906b23e6d90cd4f65e</td>\n",
       "      <td>6116.0</td>\n",
       "      <td>6146.0</td>\n",
       "      <td>73.0</td>\n",
       "      <td>1</td>\n",
       "      <td>68</td>\n",
       "      <td>68555.0</td>\n",
       "    </tr>\n",
       "    <tr>\n",
       "      <th>9</th>\n",
       "      <td>76025b9e4c39cbcf416b0815003eb6bc</td>\n",
       "      <td>f220c547e9e127dbf849edb0adf3df04</td>\n",
       "      <td>20.0</td>\n",
       "      <td>2.0</td>\n",
       "      <td>72.0</td>\n",
       "      <td>1</td>\n",
       "      <td>68</td>\n",
       "      <td>49.0</td>\n",
       "    </tr>\n",
       "  </tbody>\n",
       "</table>\n",
       "</div>"
      ],
      "text/plain": [
       "                                did                               vid     vts  \\\n",
       "0  5ebf5b53f2fdec1eadba29c3b2155e8e  83cf1332aa7315c755cc8bdd356513af   111.0   \n",
       "1  5ebf5b53f2fdec1eadba29c3b2155e8e  18d443cacff1173b21ea4c28c8bdf3b0   114.0   \n",
       "2  5ebf5b53f2fdec1eadba29c3b2155e8e  27d332d1ad1a58e205b797be64d30e13   137.0   \n",
       "3  5ebf5b53f2fdec1eadba29c3b2155e8e  2ac8e7855bb39cd1dace86c7cd5e72b7    91.0   \n",
       "4  5ebf5b53f2fdec1eadba29c3b2155e8e  941e1b0a4e8d5ae20ab328f21e8bfcc0   118.0   \n",
       "5  76025b9e4c39cbcf416b0815003eb6bc  98c0124136a942e2a41aee003f4f1298   317.0   \n",
       "6  76025b9e4c39cbcf416b0815003eb6bc  db978f94b983a6ed3021e1e927ee09ef     8.0   \n",
       "7  76025b9e4c39cbcf416b0815003eb6bc  4a87208053004ae71e82c4af599de242   444.0   \n",
       "8  76025b9e4c39cbcf416b0815003eb6bc  0cc56b6914c87d906b23e6d90cd4f65e  6116.0   \n",
       "9  76025b9e4c39cbcf416b0815003eb6bc  f220c547e9e127dbf849edb0adf3df04    20.0   \n",
       "\n",
       "       hb  seq_no  cpn  fpn  time_gap  \n",
       "0    84.0     5.0    1  130      87.0  \n",
       "1    85.0     4.0    1  130     115.0  \n",
       "2    80.0     3.0    1  130      75.0  \n",
       "3    74.0     2.0    1  130      90.0  \n",
       "4    86.0     1.0    1  130       NaN  \n",
       "5   392.0    76.0    1  130       7.0  \n",
       "6    89.0    75.0    1   68   12236.0  \n",
       "7   439.0    74.0    1  130    6126.0  \n",
       "8  6146.0    73.0    1   68   68555.0  \n",
       "9     2.0    72.0    1   68      49.0  "
      ]
     },
     "execution_count": 4,
     "metadata": {},
     "output_type": "execute_result"
    }
   ],
   "source": [
    "train.head(2)\n",
    "print(train.shape)\n",
    "train.head(10)"
   ]
  },
  {
   "cell_type": "code",
   "execution_count": 3,
   "metadata": {},
   "outputs": [],
   "source": [
    "vid_info = pd.read_csv('../input/vid_info.csv')"
   ]
  },
  {
   "cell_type": "code",
   "execution_count": 4,
   "metadata": {},
   "outputs": [],
   "source": [
    "candidate_items = pd.read_csv('../input/candidate_items_A.csv')"
   ]
  },
  {
   "cell_type": "code",
   "execution_count": 6,
   "metadata": {},
   "outputs": [],
   "source": [
    "train = train.merge(vid_info[['vid','cid']],on='vid',how='left')"
   ]
  },
  {
   "cell_type": "code",
   "execution_count": 7,
   "metadata": {},
   "outputs": [],
   "source": [
    "train = train[['did','vid','cid']]"
   ]
  },
  {
   "cell_type": "code",
   "execution_count": 8,
   "metadata": {},
   "outputs": [],
   "source": [
    "train['did_count'] = train['did'].map(train.did.value_counts())"
   ]
  },
  {
   "cell_type": "code",
   "execution_count": 9,
   "metadata": {},
   "outputs": [],
   "source": [
    "train['rank'] =  train.groupby('did').cumcount()+1"
   ]
  },
  {
   "cell_type": "code",
   "execution_count": 10,
   "metadata": {},
   "outputs": [],
   "source": [
    "train['vid_next'] = train.groupby(['did']).vid.shift(1) # 这个是很重要的"
   ]
  },
  {
   "cell_type": "code",
   "execution_count": 11,
   "metadata": {},
   "outputs": [],
   "source": [
    "tmp = train.groupby(['vid','vid_next']).size().sort_values(ascending=False).reset_index()"
   ]
  },
  {
   "cell_type": "code",
   "execution_count": 12,
   "metadata": {},
   "outputs": [],
   "source": [
    "tmp = tmp[tmp.vid_next.isin(candidate_items.vid.unique())]"
   ]
  },
  {
   "cell_type": "code",
   "execution_count": 13,
   "metadata": {},
   "outputs": [],
   "source": [
    "tmp = tmp.groupby('vid').head(6)"
   ]
  },
  {
   "cell_type": "code",
   "execution_count": 14,
   "metadata": {},
   "outputs": [],
   "source": [
    "base =  train[train['rank']==1][['did','vid']]"
   ]
  },
  {
   "cell_type": "code",
   "execution_count": 15,
   "metadata": {},
   "outputs": [],
   "source": [
    "base = base.merge(tmp[['vid','vid_next',0]],on='vid')"
   ]
  },
  {
   "cell_type": "code",
   "execution_count": 16,
   "metadata": {},
   "outputs": [],
   "source": [
    "hot_list = train[train['rank']==1].vid.value_counts().head(6).index"
   ]
  },
  {
   "cell_type": "code",
   "execution_count": 17,
   "metadata": {},
   "outputs": [],
   "source": [
    "base5 = train.did.drop_duplicates().to_frame()"
   ]
  },
  {
   "cell_type": "code",
   "execution_count": 18,
   "metadata": {},
   "outputs": [],
   "source": [
    "base5['key'] =1"
   ]
  },
  {
   "cell_type": "code",
   "execution_count": 19,
   "metadata": {},
   "outputs": [],
   "source": [
    "top_hot_list = pd.DataFrame(hot_list, columns=['vid_next'])"
   ]
  },
  {
   "cell_type": "code",
   "execution_count": 20,
   "metadata": {},
   "outputs": [],
   "source": [
    "top_hot_list['key'] = 1"
   ]
  },
  {
   "cell_type": "code",
   "execution_count": 21,
   "metadata": {},
   "outputs": [],
   "source": [
    "base5 = base5.merge(top_hot_list,on=['key'],how='inner')"
   ]
  },
  {
   "cell_type": "code",
   "execution_count": 22,
   "metadata": {},
   "outputs": [],
   "source": [
    "base_all = pd.concat([base,base5])"
   ]
  },
  {
   "cell_type": "code",
   "execution_count": 23,
   "metadata": {},
   "outputs": [],
   "source": [
    "base_all = base_all[base_all.vid_next.isin(candidate_items.vid.unique())]"
   ]
  },
  {
   "cell_type": "code",
   "execution_count": 24,
   "metadata": {},
   "outputs": [],
   "source": [
    "base_all = base_all[base_all.vid_next!=base_all.vid]"
   ]
  },
  {
   "cell_type": "code",
   "execution_count": 25,
   "metadata": {},
   "outputs": [],
   "source": [
    "base_all = base_all.drop_duplicates(['did','vid_next'],keep='first')"
   ]
  },
  {
   "cell_type": "code",
   "execution_count": 26,
   "metadata": {},
   "outputs": [],
   "source": [
    "base_all = base_all.groupby('did').head(6)"
   ]
  },
  {
   "cell_type": "code",
   "execution_count": 27,
   "metadata": {},
   "outputs": [],
   "source": [
    "base_all['rank'] = base_all.groupby('did').cumcount()+1"
   ]
  },
  {
   "cell_type": "code",
   "execution_count": 28,
   "metadata": {},
   "outputs": [],
   "source": [
    "sub = base_all[['did', 'vid_next',  'rank']]"
   ]
  },
  {
   "cell_type": "code",
   "execution_count": 29,
   "metadata": {},
   "outputs": [],
   "source": [
    "sub.columns = ['did', 'vid', 'rank']"
   ]
  },
  {
   "cell_type": "code",
   "execution_count": 30,
   "metadata": {},
   "outputs": [],
   "source": [
    "sub.to_csv('res.csv',index=None)"
   ]
  },
  {
   "cell_type": "code",
   "execution_count": 31,
   "metadata": {},
   "outputs": [
    {
     "data": {
      "text/html": [
       "<div>\n",
       "<style scoped>\n",
       "    .dataframe tbody tr th:only-of-type {\n",
       "        vertical-align: middle;\n",
       "    }\n",
       "\n",
       "    .dataframe tbody tr th {\n",
       "        vertical-align: top;\n",
       "    }\n",
       "\n",
       "    .dataframe thead th {\n",
       "        text-align: right;\n",
       "    }\n",
       "</style>\n",
       "<table border=\"1\" class=\"dataframe\">\n",
       "  <thead>\n",
       "    <tr style=\"text-align: right;\">\n",
       "      <th></th>\n",
       "      <th>did</th>\n",
       "      <th>vid</th>\n",
       "      <th>rank</th>\n",
       "    </tr>\n",
       "  </thead>\n",
       "  <tbody>\n",
       "    <tr>\n",
       "      <th>0</th>\n",
       "      <td>5ebf5b53f2fdec1eadba29c3b2155e8e</td>\n",
       "      <td>5bc78a50602b520bb3f6c87e3c542f1c</td>\n",
       "      <td>1</td>\n",
       "    </tr>\n",
       "    <tr>\n",
       "      <th>1</th>\n",
       "      <td>5ebf5b53f2fdec1eadba29c3b2155e8e</td>\n",
       "      <td>5586977e241d184ecd47576a12687576</td>\n",
       "      <td>2</td>\n",
       "    </tr>\n",
       "    <tr>\n",
       "      <th>2</th>\n",
       "      <td>5ebf5b53f2fdec1eadba29c3b2155e8e</td>\n",
       "      <td>0cc56b6914c87d906b23e6d90cd4f65e</td>\n",
       "      <td>3</td>\n",
       "    </tr>\n",
       "    <tr>\n",
       "      <th>3</th>\n",
       "      <td>5ebf5b53f2fdec1eadba29c3b2155e8e</td>\n",
       "      <td>db978f94b983a6ed3021e1e927ee09ef</td>\n",
       "      <td>4</td>\n",
       "    </tr>\n",
       "    <tr>\n",
       "      <th>4</th>\n",
       "      <td>5ebf5b53f2fdec1eadba29c3b2155e8e</td>\n",
       "      <td>98c0124136a942e2a41aee003f4f1298</td>\n",
       "      <td>5</td>\n",
       "    </tr>\n",
       "    <tr>\n",
       "      <th>...</th>\n",
       "      <td>...</td>\n",
       "      <td>...</td>\n",
       "      <td>...</td>\n",
       "    </tr>\n",
       "    <tr>\n",
       "      <th>1024965</th>\n",
       "      <td>a40790db7c6e0a3ff583c225c9638d7b</td>\n",
       "      <td>64ece3758213c9b08da38832b3bc49f3</td>\n",
       "      <td>4</td>\n",
       "    </tr>\n",
       "    <tr>\n",
       "      <th>1024966</th>\n",
       "      <td>a40790db7c6e0a3ff583c225c9638d7b</td>\n",
       "      <td>239fa8776d81792a7477053184e7d6af</td>\n",
       "      <td>5</td>\n",
       "    </tr>\n",
       "    <tr>\n",
       "      <th>1024967</th>\n",
       "      <td>a40790db7c6e0a3ff583c225c9638d7b</td>\n",
       "      <td>dd4ad1276e13603b6a15704295ba6ec8</td>\n",
       "      <td>6</td>\n",
       "    </tr>\n",
       "    <tr>\n",
       "      <th>1025004</th>\n",
       "      <td>4707b1fa31569c6950c0a46dc904cf9e</td>\n",
       "      <td>0cc56b6914c87d906b23e6d90cd4f65e</td>\n",
       "      <td>5</td>\n",
       "    </tr>\n",
       "    <tr>\n",
       "      <th>1025005</th>\n",
       "      <td>4707b1fa31569c6950c0a46dc904cf9e</td>\n",
       "      <td>4a87208053004ae71e82c4af599de242</td>\n",
       "      <td>6</td>\n",
       "    </tr>\n",
       "  </tbody>\n",
       "</table>\n",
       "<p>1025454 rows × 3 columns</p>\n",
       "</div>"
      ],
      "text/plain": [
       "                                      did                               vid  \\\n",
       "0        5ebf5b53f2fdec1eadba29c3b2155e8e  5bc78a50602b520bb3f6c87e3c542f1c   \n",
       "1        5ebf5b53f2fdec1eadba29c3b2155e8e  5586977e241d184ecd47576a12687576   \n",
       "2        5ebf5b53f2fdec1eadba29c3b2155e8e  0cc56b6914c87d906b23e6d90cd4f65e   \n",
       "3        5ebf5b53f2fdec1eadba29c3b2155e8e  db978f94b983a6ed3021e1e927ee09ef   \n",
       "4        5ebf5b53f2fdec1eadba29c3b2155e8e  98c0124136a942e2a41aee003f4f1298   \n",
       "...                                   ...                               ...   \n",
       "1024965  a40790db7c6e0a3ff583c225c9638d7b  64ece3758213c9b08da38832b3bc49f3   \n",
       "1024966  a40790db7c6e0a3ff583c225c9638d7b  239fa8776d81792a7477053184e7d6af   \n",
       "1024967  a40790db7c6e0a3ff583c225c9638d7b  dd4ad1276e13603b6a15704295ba6ec8   \n",
       "1025004  4707b1fa31569c6950c0a46dc904cf9e  0cc56b6914c87d906b23e6d90cd4f65e   \n",
       "1025005  4707b1fa31569c6950c0a46dc904cf9e  4a87208053004ae71e82c4af599de242   \n",
       "\n",
       "         rank  \n",
       "0           1  \n",
       "1           2  \n",
       "2           3  \n",
       "3           4  \n",
       "4           5  \n",
       "...       ...  \n",
       "1024965     4  \n",
       "1024966     5  \n",
       "1024967     6  \n",
       "1025004     5  \n",
       "1025005     6  \n",
       "\n",
       "[1025454 rows x 3 columns]"
      ]
     },
     "execution_count": 31,
     "metadata": {},
     "output_type": "execute_result"
    }
   ],
   "source": [
    "sub"
   ]
  },
  {
   "cell_type": "code",
   "execution_count": 7,
   "metadata": {},
   "outputs": [],
   "source": [
    "input_path = '../uspppm_final_bad/'\n",
    "train_df = pd.read_csv(f\"{input_path}train.csv\")\n",
    "titles = pd.read_csv('../uspppm_final_bad/titles.csv')\n",
    "train_df = train_df.merge(titles, left_on='context', right_on='code')"
   ]
  },
  {
   "cell_type": "code",
   "execution_count": 8,
   "metadata": {},
   "outputs": [
    {
     "data": {
      "text/html": [
       "<div>\n",
       "<style scoped>\n",
       "    .dataframe tbody tr th:only-of-type {\n",
       "        vertical-align: middle;\n",
       "    }\n",
       "\n",
       "    .dataframe tbody tr th {\n",
       "        vertical-align: top;\n",
       "    }\n",
       "\n",
       "    .dataframe thead th {\n",
       "        text-align: right;\n",
       "    }\n",
       "</style>\n",
       "<table border=\"1\" class=\"dataframe\">\n",
       "  <thead>\n",
       "    <tr style=\"text-align: right;\">\n",
       "      <th></th>\n",
       "      <th>id</th>\n",
       "      <th>anchor</th>\n",
       "      <th>target</th>\n",
       "      <th>context</th>\n",
       "      <th>score</th>\n",
       "      <th>code</th>\n",
       "      <th>title</th>\n",
       "      <th>section</th>\n",
       "      <th>class</th>\n",
       "      <th>subclass</th>\n",
       "      <th>group</th>\n",
       "      <th>main_group</th>\n",
       "    </tr>\n",
       "  </thead>\n",
       "  <tbody>\n",
       "    <tr>\n",
       "      <th>0</th>\n",
       "      <td>37d61fd2272659b1</td>\n",
       "      <td>abatement</td>\n",
       "      <td>abatement of pollution</td>\n",
       "      <td>A47</td>\n",
       "      <td>0.50</td>\n",
       "      <td>A47</td>\n",
       "      <td>FURNITURE; DOMESTIC ARTICLES OR APPLIANCES; CO...</td>\n",
       "      <td>A</td>\n",
       "      <td>47.0</td>\n",
       "      <td>NaN</td>\n",
       "      <td>NaN</td>\n",
       "      <td>NaN</td>\n",
       "    </tr>\n",
       "    <tr>\n",
       "      <th>1</th>\n",
       "      <td>7b9652b17b68b7a4</td>\n",
       "      <td>abatement</td>\n",
       "      <td>act of abating</td>\n",
       "      <td>A47</td>\n",
       "      <td>0.75</td>\n",
       "      <td>A47</td>\n",
       "      <td>FURNITURE; DOMESTIC ARTICLES OR APPLIANCES; CO...</td>\n",
       "      <td>A</td>\n",
       "      <td>47.0</td>\n",
       "      <td>NaN</td>\n",
       "      <td>NaN</td>\n",
       "      <td>NaN</td>\n",
       "    </tr>\n",
       "    <tr>\n",
       "      <th>2</th>\n",
       "      <td>36d72442aefd8232</td>\n",
       "      <td>abatement</td>\n",
       "      <td>active catalyst</td>\n",
       "      <td>A47</td>\n",
       "      <td>0.25</td>\n",
       "      <td>A47</td>\n",
       "      <td>FURNITURE; DOMESTIC ARTICLES OR APPLIANCES; CO...</td>\n",
       "      <td>A</td>\n",
       "      <td>47.0</td>\n",
       "      <td>NaN</td>\n",
       "      <td>NaN</td>\n",
       "      <td>NaN</td>\n",
       "    </tr>\n",
       "    <tr>\n",
       "      <th>3</th>\n",
       "      <td>5296b0c19e1ce60e</td>\n",
       "      <td>abatement</td>\n",
       "      <td>eliminating process</td>\n",
       "      <td>A47</td>\n",
       "      <td>0.50</td>\n",
       "      <td>A47</td>\n",
       "      <td>FURNITURE; DOMESTIC ARTICLES OR APPLIANCES; CO...</td>\n",
       "      <td>A</td>\n",
       "      <td>47.0</td>\n",
       "      <td>NaN</td>\n",
       "      <td>NaN</td>\n",
       "      <td>NaN</td>\n",
       "    </tr>\n",
       "    <tr>\n",
       "      <th>4</th>\n",
       "      <td>54c1e3b9184cb5b6</td>\n",
       "      <td>abatement</td>\n",
       "      <td>forest region</td>\n",
       "      <td>A47</td>\n",
       "      <td>0.00</td>\n",
       "      <td>A47</td>\n",
       "      <td>FURNITURE; DOMESTIC ARTICLES OR APPLIANCES; CO...</td>\n",
       "      <td>A</td>\n",
       "      <td>47.0</td>\n",
       "      <td>NaN</td>\n",
       "      <td>NaN</td>\n",
       "      <td>NaN</td>\n",
       "    </tr>\n",
       "    <tr>\n",
       "      <th>5</th>\n",
       "      <td>067203128142739c</td>\n",
       "      <td>abatement</td>\n",
       "      <td>greenhouse gases</td>\n",
       "      <td>A47</td>\n",
       "      <td>0.25</td>\n",
       "      <td>A47</td>\n",
       "      <td>FURNITURE; DOMESTIC ARTICLES OR APPLIANCES; CO...</td>\n",
       "      <td>A</td>\n",
       "      <td>47.0</td>\n",
       "      <td>NaN</td>\n",
       "      <td>NaN</td>\n",
       "      <td>NaN</td>\n",
       "    </tr>\n",
       "    <tr>\n",
       "      <th>6</th>\n",
       "      <td>061d17f04be2d1cf</td>\n",
       "      <td>abatement</td>\n",
       "      <td>increased rate</td>\n",
       "      <td>A47</td>\n",
       "      <td>0.25</td>\n",
       "      <td>A47</td>\n",
       "      <td>FURNITURE; DOMESTIC ARTICLES OR APPLIANCES; CO...</td>\n",
       "      <td>A</td>\n",
       "      <td>47.0</td>\n",
       "      <td>NaN</td>\n",
       "      <td>NaN</td>\n",
       "      <td>NaN</td>\n",
       "    </tr>\n",
       "    <tr>\n",
       "      <th>7</th>\n",
       "      <td>e1f44e48399a2027</td>\n",
       "      <td>abatement</td>\n",
       "      <td>measurement level</td>\n",
       "      <td>A47</td>\n",
       "      <td>0.25</td>\n",
       "      <td>A47</td>\n",
       "      <td>FURNITURE; DOMESTIC ARTICLES OR APPLIANCES; CO...</td>\n",
       "      <td>A</td>\n",
       "      <td>47.0</td>\n",
       "      <td>NaN</td>\n",
       "      <td>NaN</td>\n",
       "      <td>NaN</td>\n",
       "    </tr>\n",
       "    <tr>\n",
       "      <th>8</th>\n",
       "      <td>0a425937a3e86d10</td>\n",
       "      <td>abatement</td>\n",
       "      <td>minimising sounds</td>\n",
       "      <td>A47</td>\n",
       "      <td>0.50</td>\n",
       "      <td>A47</td>\n",
       "      <td>FURNITURE; DOMESTIC ARTICLES OR APPLIANCES; CO...</td>\n",
       "      <td>A</td>\n",
       "      <td>47.0</td>\n",
       "      <td>NaN</td>\n",
       "      <td>NaN</td>\n",
       "      <td>NaN</td>\n",
       "    </tr>\n",
       "    <tr>\n",
       "      <th>9</th>\n",
       "      <td>ef2d4c2e6bbb208d</td>\n",
       "      <td>abatement</td>\n",
       "      <td>mixing core materials</td>\n",
       "      <td>A47</td>\n",
       "      <td>0.25</td>\n",
       "      <td>A47</td>\n",
       "      <td>FURNITURE; DOMESTIC ARTICLES OR APPLIANCES; CO...</td>\n",
       "      <td>A</td>\n",
       "      <td>47.0</td>\n",
       "      <td>NaN</td>\n",
       "      <td>NaN</td>\n",
       "      <td>NaN</td>\n",
       "    </tr>\n",
       "  </tbody>\n",
       "</table>\n",
       "</div>"
      ],
      "text/plain": [
       "                 id     anchor                  target context  score code  \\\n",
       "0  37d61fd2272659b1  abatement  abatement of pollution     A47   0.50  A47   \n",
       "1  7b9652b17b68b7a4  abatement          act of abating     A47   0.75  A47   \n",
       "2  36d72442aefd8232  abatement         active catalyst     A47   0.25  A47   \n",
       "3  5296b0c19e1ce60e  abatement     eliminating process     A47   0.50  A47   \n",
       "4  54c1e3b9184cb5b6  abatement           forest region     A47   0.00  A47   \n",
       "5  067203128142739c  abatement        greenhouse gases     A47   0.25  A47   \n",
       "6  061d17f04be2d1cf  abatement          increased rate     A47   0.25  A47   \n",
       "7  e1f44e48399a2027  abatement       measurement level     A47   0.25  A47   \n",
       "8  0a425937a3e86d10  abatement       minimising sounds     A47   0.50  A47   \n",
       "9  ef2d4c2e6bbb208d  abatement   mixing core materials     A47   0.25  A47   \n",
       "\n",
       "                                               title section  class subclass  \\\n",
       "0  FURNITURE; DOMESTIC ARTICLES OR APPLIANCES; CO...       A   47.0      NaN   \n",
       "1  FURNITURE; DOMESTIC ARTICLES OR APPLIANCES; CO...       A   47.0      NaN   \n",
       "2  FURNITURE; DOMESTIC ARTICLES OR APPLIANCES; CO...       A   47.0      NaN   \n",
       "3  FURNITURE; DOMESTIC ARTICLES OR APPLIANCES; CO...       A   47.0      NaN   \n",
       "4  FURNITURE; DOMESTIC ARTICLES OR APPLIANCES; CO...       A   47.0      NaN   \n",
       "5  FURNITURE; DOMESTIC ARTICLES OR APPLIANCES; CO...       A   47.0      NaN   \n",
       "6  FURNITURE; DOMESTIC ARTICLES OR APPLIANCES; CO...       A   47.0      NaN   \n",
       "7  FURNITURE; DOMESTIC ARTICLES OR APPLIANCES; CO...       A   47.0      NaN   \n",
       "8  FURNITURE; DOMESTIC ARTICLES OR APPLIANCES; CO...       A   47.0      NaN   \n",
       "9  FURNITURE; DOMESTIC ARTICLES OR APPLIANCES; CO...       A   47.0      NaN   \n",
       "\n",
       "   group  main_group  \n",
       "0    NaN         NaN  \n",
       "1    NaN         NaN  \n",
       "2    NaN         NaN  \n",
       "3    NaN         NaN  \n",
       "4    NaN         NaN  \n",
       "5    NaN         NaN  \n",
       "6    NaN         NaN  \n",
       "7    NaN         NaN  \n",
       "8    NaN         NaN  \n",
       "9    NaN         NaN  "
      ]
     },
     "execution_count": 8,
     "metadata": {},
     "output_type": "execute_result"
    }
   ],
   "source": [
    "train_df.head(10)"
   ]
  }
 ],
 "metadata": {
  "kernelspec": {
   "display_name": "Python 3.8.4 ('venv': venv)",
   "language": "python",
   "name": "python3"
  },
  "language_info": {
   "codemirror_mode": {
    "name": "ipython",
    "version": 3
   },
   "file_extension": ".py",
   "mimetype": "text/x-python",
   "name": "python",
   "nbconvert_exporter": "python",
   "pygments_lexer": "ipython3",
   "version": "3.8.4"
  },
  "vscode": {
   "interpreter": {
    "hash": "407107e68832157a7bf440b2e842437834c5ebf88d5cafbcbfa00fd7b9d9b746"
   }
  }
 },
 "nbformat": 4,
 "nbformat_minor": 2
}
