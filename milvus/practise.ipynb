{
 "cells": [
  {
   "cell_type": "code",
   "execution_count": 1,
   "metadata": {
    "collapsed": true,
    "ExecuteTime": {
     "end_time": "2024-06-03T13:57:57.631336300Z",
     "start_time": "2024-06-03T13:57:45.756703700Z"
    }
   },
   "outputs": [
    {
     "name": "stderr",
     "output_type": "stream",
     "text": [
      "\n",
      "[notice] A new release of pip available: 22.3.1 -> 24.0\n",
      "[notice] To update, run: python.exe -m pip install --upgrade pip\n"
     ]
    }
   ],
   "source": [
    "!pip3 install -q towhee pymilvus==2.2.11"
   ]
  },
  {
   "cell_type": "code",
   "execution_count": 3,
   "outputs": [
    {
     "name": "stderr",
     "output_type": "stream",
     "text": [
      "'wget' 不是内部或外部命令，也不是可运行的程序\n",
      "或批处理文件。\n"
     ]
    }
   ],
   "source": [
    "!wget -q https://github.com/towhee-io/examples/releases/download/data/New_Medium_Data.csv"
   ],
   "metadata": {
    "collapsed": false,
    "ExecuteTime": {
     "end_time": "2024-06-03T14:07:40.702083700Z",
     "start_time": "2024-06-03T14:07:40.675490100Z"
    }
   }
  },
  {
   "cell_type": "code",
   "execution_count": 7,
   "outputs": [
    {
     "ename": "MilvusException",
     "evalue": "<MilvusException: (code=2, message=Fail connecting to server on 192.168.1.156:19530. Timeout)>",
     "output_type": "error",
     "traceback": [
      "\u001B[1;31m---------------------------------------------------------------------------\u001B[0m",
      "\u001B[1;31mFutureTimeoutError\u001B[0m                        Traceback (most recent call last)",
      "File \u001B[1;32mD:\\system_default\\desktop\\Github_repo_code\\RecSys\\venv\\Lib\\site-packages\\pymilvus\\client\\grpc_handler.py:119\u001B[0m, in \u001B[0;36mGrpcHandler._wait_for_channel_ready\u001B[1;34m(self, timeout)\u001B[0m\n\u001B[0;32m    118\u001B[0m \u001B[38;5;28;01mtry\u001B[39;00m:\n\u001B[1;32m--> 119\u001B[0m     \u001B[43mgrpc\u001B[49m\u001B[38;5;241;43m.\u001B[39;49m\u001B[43mchannel_ready_future\u001B[49m\u001B[43m(\u001B[49m\u001B[38;5;28;43mself\u001B[39;49m\u001B[38;5;241;43m.\u001B[39;49m\u001B[43m_channel\u001B[49m\u001B[43m)\u001B[49m\u001B[38;5;241;43m.\u001B[39;49m\u001B[43mresult\u001B[49m\u001B[43m(\u001B[49m\u001B[43mtimeout\u001B[49m\u001B[38;5;241;43m=\u001B[39;49m\u001B[43mtimeout\u001B[49m\u001B[43m)\u001B[49m\n\u001B[0;32m    120\u001B[0m     \u001B[38;5;28mself\u001B[39m\u001B[38;5;241m.\u001B[39m_setup_identifier_interceptor(\u001B[38;5;28mself\u001B[39m\u001B[38;5;241m.\u001B[39m_user)\n",
      "File \u001B[1;32mD:\\system_default\\desktop\\Github_repo_code\\RecSys\\venv\\Lib\\site-packages\\grpc\\_utilities.py:151\u001B[0m, in \u001B[0;36m_ChannelReadyFuture.result\u001B[1;34m(self, timeout)\u001B[0m\n\u001B[0;32m    150\u001B[0m \u001B[38;5;28;01mdef\u001B[39;00m \u001B[38;5;21mresult\u001B[39m(\u001B[38;5;28mself\u001B[39m, timeout: Optional[\u001B[38;5;28mfloat\u001B[39m] \u001B[38;5;241m=\u001B[39m \u001B[38;5;28;01mNone\u001B[39;00m) \u001B[38;5;241m-\u001B[39m\u001B[38;5;241m>\u001B[39m \u001B[38;5;28;01mNone\u001B[39;00m:\n\u001B[1;32m--> 151\u001B[0m     \u001B[38;5;28;43mself\u001B[39;49m\u001B[38;5;241;43m.\u001B[39;49m\u001B[43m_block\u001B[49m\u001B[43m(\u001B[49m\u001B[43mtimeout\u001B[49m\u001B[43m)\u001B[49m\n",
      "File \u001B[1;32mD:\\system_default\\desktop\\Github_repo_code\\RecSys\\venv\\Lib\\site-packages\\grpc\\_utilities.py:97\u001B[0m, in \u001B[0;36m_ChannelReadyFuture._block\u001B[1;34m(self, timeout)\u001B[0m\n\u001B[0;32m     96\u001B[0m \u001B[38;5;28;01mif\u001B[39;00m remaining \u001B[38;5;241m<\u001B[39m \u001B[38;5;241m0\u001B[39m:\n\u001B[1;32m---> 97\u001B[0m     \u001B[38;5;28;01mraise\u001B[39;00m grpc\u001B[38;5;241m.\u001B[39mFutureTimeoutError()\n\u001B[0;32m     98\u001B[0m \u001B[38;5;28;01melse\u001B[39;00m:\n",
      "\u001B[1;31mFutureTimeoutError\u001B[0m: ",
      "\nThe above exception was the direct cause of the following exception:\n",
      "\u001B[1;31mMilvusException\u001B[0m                           Traceback (most recent call last)",
      "Cell \u001B[1;32mIn[7], line 3\u001B[0m\n\u001B[0;32m      1\u001B[0m \u001B[38;5;28;01mfrom\u001B[39;00m \u001B[38;5;21;01mpymilvus\u001B[39;00m \u001B[38;5;28;01mimport\u001B[39;00m connections, FieldSchema, CollectionSchema, DataType, Collection, utility, db\n\u001B[1;32m----> 3\u001B[0m conn \u001B[38;5;241m=\u001B[39m \u001B[43mconnections\u001B[49m\u001B[38;5;241;43m.\u001B[39;49m\u001B[43mconnect\u001B[49m\u001B[43m(\u001B[49m\u001B[43mhost\u001B[49m\u001B[38;5;241;43m=\u001B[39;49m\u001B[38;5;124;43m\"\u001B[39;49m\u001B[38;5;124;43m192.168.1.156\u001B[39;49m\u001B[38;5;124;43m\"\u001B[39;49m\u001B[43m,\u001B[49m\u001B[43m \u001B[49m\u001B[43mport\u001B[49m\u001B[38;5;241;43m=\u001B[39;49m\u001B[38;5;241;43m19530\u001B[39;49m\u001B[43m)\u001B[49m\n\u001B[0;32m      4\u001B[0m database \u001B[38;5;241m=\u001B[39m db\u001B[38;5;241m.\u001B[39mcreate_database(\u001B[38;5;124m\"\u001B[39m\u001B[38;5;124msample_db\u001B[39m\u001B[38;5;124m\"\u001B[39m)\n\u001B[0;32m      6\u001B[0m \u001B[38;5;28;01mdef\u001B[39;00m \u001B[38;5;21mcreate_milvus_collection\u001B[39m(collection_name, dim):\n",
      "File \u001B[1;32mD:\\system_default\\desktop\\Github_repo_code\\RecSys\\venv\\Lib\\site-packages\\pymilvus\\orm\\connections.py:349\u001B[0m, in \u001B[0;36mConnections.connect\u001B[1;34m(self, alias, user, password, db_name, token, **kwargs)\u001B[0m\n\u001B[0;32m    345\u001B[0m         \u001B[38;5;28;01mif\u001B[39;00m parsed_uri\u001B[38;5;241m.\u001B[39mscheme \u001B[38;5;241m==\u001B[39m \u001B[38;5;124m\"\u001B[39m\u001B[38;5;124mhttps\u001B[39m\u001B[38;5;124m\"\u001B[39m:\n\u001B[0;32m    346\u001B[0m             kwargs[\u001B[38;5;124m\"\u001B[39m\u001B[38;5;124msecure\u001B[39m\u001B[38;5;124m\"\u001B[39m] \u001B[38;5;241m=\u001B[39m \u001B[38;5;28;01mTrue\u001B[39;00m\n\u001B[1;32m--> 349\u001B[0m     \u001B[43mconnect_milvus\u001B[49m\u001B[43m(\u001B[49m\u001B[38;5;241;43m*\u001B[39;49m\u001B[38;5;241;43m*\u001B[39;49m\u001B[43mkwargs\u001B[49m\u001B[43m,\u001B[49m\u001B[43m \u001B[49m\u001B[43muser\u001B[49m\u001B[38;5;241;43m=\u001B[39;49m\u001B[43muser\u001B[49m\u001B[43m,\u001B[49m\u001B[43m \u001B[49m\u001B[43mpassword\u001B[49m\u001B[38;5;241;43m=\u001B[39;49m\u001B[43mpassword\u001B[49m\u001B[43m,\u001B[49m\u001B[43m \u001B[49m\u001B[43mtoken\u001B[49m\u001B[38;5;241;43m=\u001B[39;49m\u001B[43mtoken\u001B[49m\u001B[43m,\u001B[49m\u001B[43m \u001B[49m\u001B[43mdb_name\u001B[49m\u001B[38;5;241;43m=\u001B[39;49m\u001B[43mdb_name\u001B[49m\u001B[43m)\u001B[49m\n\u001B[0;32m    350\u001B[0m     \u001B[38;5;28;01mreturn\u001B[39;00m\n\u001B[0;32m    352\u001B[0m \u001B[38;5;66;03m# 2nd Priority, connection configs from env\u001B[39;00m\n",
      "File \u001B[1;32mD:\\system_default\\desktop\\Github_repo_code\\RecSys\\venv\\Lib\\site-packages\\pymilvus\\orm\\connections.py:282\u001B[0m, in \u001B[0;36mConnections.connect.<locals>.connect_milvus\u001B[1;34m(**kwargs)\u001B[0m\n\u001B[0;32m    279\u001B[0m t \u001B[38;5;241m=\u001B[39m kwargs\u001B[38;5;241m.\u001B[39mget(\u001B[38;5;124m\"\u001B[39m\u001B[38;5;124mtimeout\u001B[39m\u001B[38;5;124m\"\u001B[39m)\n\u001B[0;32m    280\u001B[0m timeout \u001B[38;5;241m=\u001B[39m t \u001B[38;5;28;01mif\u001B[39;00m \u001B[38;5;28misinstance\u001B[39m(t, (\u001B[38;5;28mint\u001B[39m, \u001B[38;5;28mfloat\u001B[39m)) \u001B[38;5;28;01melse\u001B[39;00m Config\u001B[38;5;241m.\u001B[39mMILVUS_CONN_TIMEOUT\n\u001B[1;32m--> 282\u001B[0m \u001B[43mgh\u001B[49m\u001B[38;5;241;43m.\u001B[39;49m\u001B[43m_wait_for_channel_ready\u001B[49m\u001B[43m(\u001B[49m\u001B[43mtimeout\u001B[49m\u001B[38;5;241;43m=\u001B[39;49m\u001B[43mtimeout\u001B[49m\u001B[43m)\u001B[49m\n\u001B[0;32m    283\u001B[0m kwargs\u001B[38;5;241m.\u001B[39mpop(\u001B[38;5;124m'\u001B[39m\u001B[38;5;124mpassword\u001B[39m\u001B[38;5;124m'\u001B[39m)\n\u001B[0;32m    284\u001B[0m kwargs\u001B[38;5;241m.\u001B[39mpop(\u001B[38;5;124m\"\u001B[39m\u001B[38;5;124mtoken\u001B[39m\u001B[38;5;124m\"\u001B[39m, \u001B[38;5;28;01mNone\u001B[39;00m)\n",
      "File \u001B[1;32mD:\\system_default\\desktop\\Github_repo_code\\RecSys\\venv\\Lib\\site-packages\\pymilvus\\client\\grpc_handler.py:123\u001B[0m, in \u001B[0;36mGrpcHandler._wait_for_channel_ready\u001B[1;34m(self, timeout)\u001B[0m\n\u001B[0;32m    121\u001B[0m         \u001B[38;5;28;01mreturn\u001B[39;00m\n\u001B[0;32m    122\u001B[0m     \u001B[38;5;28;01mexcept\u001B[39;00m (grpc\u001B[38;5;241m.\u001B[39mFutureTimeoutError,  MilvusException) \u001B[38;5;28;01mas\u001B[39;00m e:\n\u001B[1;32m--> 123\u001B[0m         \u001B[38;5;28;01mraise\u001B[39;00m MilvusException(Status\u001B[38;5;241m.\u001B[39mCONNECT_FAILED,\n\u001B[0;32m    124\u001B[0m                               \u001B[38;5;124mf\u001B[39m\u001B[38;5;124m'\u001B[39m\u001B[38;5;124mFail connecting to server on \u001B[39m\u001B[38;5;132;01m{\u001B[39;00m\u001B[38;5;28mself\u001B[39m\u001B[38;5;241m.\u001B[39m_address\u001B[38;5;132;01m}\u001B[39;00m\u001B[38;5;124m. Timeout\u001B[39m\u001B[38;5;124m'\u001B[39m) \u001B[38;5;28;01mfrom\u001B[39;00m \u001B[38;5;21;01me\u001B[39;00m\n\u001B[0;32m    126\u001B[0m \u001B[38;5;28;01mraise\u001B[39;00m MilvusException(Status\u001B[38;5;241m.\u001B[39mCONNECT_FAILED, \u001B[38;5;124m'\u001B[39m\u001B[38;5;124mNo channel in handler, please setup grpc channel first\u001B[39m\u001B[38;5;124m'\u001B[39m)\n",
      "\u001B[1;31mMilvusException\u001B[0m: <MilvusException: (code=2, message=Fail connecting to server on 192.168.1.156:19530. Timeout)>"
     ]
    }
   ],
   "source": [
    "from pymilvus import connections, FieldSchema, CollectionSchema, DataType, Collection, utility, db\n",
    "\n",
    "conn = connections.connect(host=\"192.168.1.156\", port=19530)\n",
    "database = db.create_database(\"sample_db\")\n",
    "\n",
    "def create_milvus_collection(collection_name, dim):\n",
    "    if utility.has_collection(collection_name):\n",
    "        utility.drop_collection(collection_name)\n",
    "\n",
    "    fields = [\n",
    "            FieldSchema(name=\"id\", dtype=DataType.INT64, is_primary=True, auto_id=False),\n",
    "            FieldSchema(name=\"title\", dtype=DataType.VARCHAR, max_length=500),\n",
    "            FieldSchema(name=\"title_vector\", dtype=DataType.FLOAT_VECTOR, dim=dim),\n",
    "            FieldSchema(name=\"link\", dtype=DataType.VARCHAR, max_length=500),\n",
    "            FieldSchema(name=\"reading_time\", dtype=DataType.INT64),\n",
    "            FieldSchema(name=\"publication\", dtype=DataType.VARCHAR, max_length=500),\n",
    "            FieldSchema(name=\"claps\", dtype=DataType.INT64),\n",
    "            FieldSchema(name=\"responses\", dtype=DataType.INT64)\n",
    "    ]\n",
    "    schema = CollectionSchema(fields=fields, description='search text')\n",
    "    collection = Collection(name=collection_name, schema=schema)\n",
    "\n",
    "    index_params = {\n",
    "        'metric_type': \"L2\",\n",
    "        'index_type': \"IVF_FLAT\",\n",
    "        'params': {\"nlist\": 2048}\n",
    "    }\n",
    "    collection.create_index(field_name='title_vector', index_params=index_params)\n",
    "    return collection\n",
    "\n",
    "collection = create_milvus_collection('search_article_in_medium', 768)"
   ],
   "metadata": {
    "collapsed": false,
    "ExecuteTime": {
     "end_time": "2024-06-03T14:47:18.238172600Z",
     "start_time": "2024-06-03T14:47:08.198323400Z"
    }
   }
  }
 ],
 "metadata": {
  "kernelspec": {
   "display_name": "Python 3",
   "language": "python",
   "name": "python3"
  },
  "language_info": {
   "codemirror_mode": {
    "name": "ipython",
    "version": 2
   },
   "file_extension": ".py",
   "mimetype": "text/x-python",
   "name": "python",
   "nbconvert_exporter": "python",
   "pygments_lexer": "ipython2",
   "version": "2.7.6"
  }
 },
 "nbformat": 4,
 "nbformat_minor": 0
}
